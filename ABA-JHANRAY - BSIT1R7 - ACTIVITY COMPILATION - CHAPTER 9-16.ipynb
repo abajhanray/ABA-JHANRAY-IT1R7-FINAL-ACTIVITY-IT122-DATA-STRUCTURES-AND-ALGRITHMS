{
 "cells": [
  {
   "cell_type": "code",
   "execution_count": 23,
   "id": "fe4beaa9-f65b-413b-a5fb-dcd9ed232b53",
   "metadata": {},
   "outputs": [
    {
     "name": "stdout",
     "output_type": "stream",
     "text": [
      "i.  Discuss your learnings on from Chapter 9 to Chapter 17\n",
      "\n",
      "Chapter 9 Learnings:\n",
      "\n",
      "Graph data structure is an undirected graph because there is no direction between two nodes. Which are the Entities are called nodes and the thing that connects those entities are called edges. And I also learned that the utility graph example in social media is the facebook where when you have a friend on facebook and he she has friend also that near to you or similar to you then facebook suggests you to add his her on Facebook by showing their profile. Also I have learned about the Directed graph which it has a directed where it connected. In Graph you can randomly connect any 2 nodes that is two parts and In Entry there are two nodes should be only one path. It is also clearly stated about the routes connected between the cities in the video were I have learned much. Graph can also use tuple where I can relate because we have tacked in in our Programming subject. And with using this tuple you can create a graphic map if you want a connected city for example and with tumple you command to print text it will show which connected cities to be printed in you program.\n"
     ]
    }
   ],
   "source": [
    "print(\"i.  Discuss your learnings on from Chapter 9 to Chapter 17\")\n",
    "print(\"\")\n",
    "print(\"Chapter 9 Learnings:\")\n",
    "print(\"\")\n",
    "print(\"Graph data structure is an undirected graph because there is no direction between two nodes. Which are the Entities are called nodes and the thing that connects those entities are called edges. And I also learned that the utility graph example in social media is the facebook where when you have a friend on facebook and he she has friend also that near to you or similar to you then facebook suggests you to add his her on Facebook by showing their profile. Also I have learned about the Directed graph which it has a directed where it connected. In Graph you can randomly connect any 2 nodes that is two parts and In Entry there are two nodes should be only one path. It is also clearly stated about the routes connected between the cities in the video were I have learned much. Graph can also use tuple where I can relate because we have tacked in in our Programming subject. And with using this tuple you can create a graphic map if you want a connected city for example and with tumple you command to print text it will show which connected cities to be printed in you program.\")"
   ]
  },
  {
   "cell_type": "code",
   "execution_count": 24,
   "id": "4442275c-5378-48b4-939e-67a75e748c07",
   "metadata": {},
   "outputs": [
    {
     "name": "stdout",
     "output_type": "stream",
     "text": [
      "Chapter 10 Learnings:\n",
      "\n",
      "Binary is one of the most popular search algorithm. When you search a number in your in your list of numbers you and for example you have number list which is {10, 20, 30, 40, 50, 60, 70, 80} and overall in it there is a group of 8 numbers right that counts from 10 - 80. So when you search for number using an index you should always start counting from 0 not 1. So what would it be is that First number 10 is index 0 and 20 is in index 1 and 30 is in index 3 and so on. I have learned this actually from my instructor Mrs. Arlene Calaycay together with the append number, update, insert and deleting index. Binary search is very important because you can manage what number you wanted to access and it is also fun inserting a number in a list where you just need to program which index number you want to insert a number. Also not just in numbers but another example of Binary Search is its device ID where you can set the value of that ID so that when you search for that ID you can see the value on it.\n"
     ]
    }
   ],
   "source": [
    "print(\"Chapter 10 Learnings:\")\n",
    "print(\"\")\n",
    "print(\"Binary is one of the most popular search algorithm. When you search a number in your in your list of numbers you and for example you have number list which is {10, 20, 30, 40, 50, 60, 70, 80} and overall in it there is a group of 8 numbers right that counts from 10 - 80. So when you search for number using an index you should always start counting from 0 not 1. So what would it be is that First number 10 is index 0 and 20 is in index 1 and 30 is in index 3 and so on. I have learned this actually from my instructor Mrs. Arlene Calaycay together with the append number, update, insert and deleting index. Binary search is very important because you can manage what number you wanted to access and it is also fun inserting a number in a list where you just need to program which index number you want to insert a number. Also not just in numbers but another example of Binary Search is its device ID where you can set the value of that ID so that when you search for that ID you can see the value on it.\")\n",
    "\n"
   ]
  },
  {
   "cell_type": "code",
   "execution_count": 10,
   "id": "ec922db2-86c8-49aa-9fa1-689d81f417a5",
   "metadata": {},
   "outputs": [
    {
     "name": "stdout",
     "output_type": "stream",
     "text": [
      "Chapter 11 Learnings:\n",
      "\n",
      "Bubble Sort in a Sorting Technique an it will begin sorting by comparing the first two numbers and with the two number it will swap according in accending so if the 2nd number is Greater then it will transfer to first number which is mean that it is the lowest in the first two numbers. So after you have sorting the two number you will move to the 2nd number which you used from previous and then you will again sorting the 2nd number to third number if which is the lowest amount number it will be transferred to the third number. And when you proceed sorting to the next number if you see that the first number is already lowest amount that the second number then just skip it and continue the process until you finished sorting your arrays.\n"
     ]
    }
   ],
   "source": [
    "print(\"Chapter 11 Learnings:\")\n",
    "print(\"\")\n",
    "print(\"Bubble Sort in a Sorting Technique an it will begin sorting by comparing the first two numbers and with the two number it will swap according in accending so if the 2nd number is Greater then it will transfer to first number which is mean that it is the lowest in the first two numbers. So after you have sorting the two number you will move to the 2nd number which you used from previous and then you will again sorting the 2nd number to third number if which is the lowest amount number it will be transferred to the third number. And when you proceed sorting to the next number if you see that the first number is already lowest amount that the second number then just skip it and continue the process until you finished sorting your arrays.\")"
   ]
  },
  {
   "cell_type": "code",
   "execution_count": 11,
   "id": "3298b091-32ab-4ca7-a4a2-3bfbc8d89aa9",
   "metadata": {},
   "outputs": [
    {
     "name": "stdout",
     "output_type": "stream",
     "text": [
      "Chapter 12 Learnings:\n",
      "What I've learned in Quick Sort is that The first element is pivot and the way its sorting is you will put pivot to its right position which is only smaller in your pivot so for example if you have numbers of 30 10 20 40 60 50 then pivot or the number 30 will be moved to the right partition so you will look for who is greater than him so since 20 is lower than 30 and the right 40 is greater than him so pivot will be moved or replaced 20 and it will now became 20, 10, 30, 40, 60, 50. And then repeat the process recursively so 20 is not pivot and then transfer it to its right positon so since 20 is greater than 10 and lower that 30 so now he will replace 10 so the elements now is 10, 20, 30, 40, 60, 50 and then so on with the next number. Quick so in a technique it is a divide and conquer problem that we solve, we sort one element which is pivot and we create left and right hand side of two partitions. It recursively repeat the same process on partitions.\n"
     ]
    }
   ],
   "source": [
    "print(\"Chapter 12 Learnings:\")\n",
    "print(\"\")\n",
    "print(\"What I've learned in Quick Sort is that The first element is pivot and the way its sorting is you will put pivot to its right position which is only smaller in your pivot so for example if you have numbers of 30 10 20 40 60 50 then pivot or the number 30 will be moved to the right partition so you will look for who is greater than him so since 20 is lower than 30 and the right 40 is greater than him so pivot will be moved or replaced 20 and it will now became 20, 10, 30, 40, 60, 50. And then repeat the process recursively so 20 is not pivot and then transfer it to its right positon so since 20 is greater than 10 and lower that 30 so now he will replace 10 so the elements now is 10, 20, 30, 40, 60, 50 and then so on with the next number. Quick so in a technique it is a divide and conquer problem that we solve, we sort one element which is pivot and we create left and right hand side of two partitions. It recursively repeat the same process on partitions.\")"
   ]
  },
  {
   "cell_type": "code",
   "execution_count": 12,
   "id": "57ee4df7-8ca7-4abd-bd3f-daa8d9d5506a",
   "metadata": {},
   "outputs": [
    {
     "name": "stdout",
     "output_type": "stream",
     "text": [
      "Chapter 13 Learnings:\n",
      "\n",
      "Insertion Sort is a simple sorting algorithm in Python and what it does is it will sort an Unsorted Array like for example you have a unsorted array which is this {5,7,9,4,2,11,6,3}. So basically when sorting you can make an empty array for it to be sorted but then there is an easy way on sorting it. So this insertion array is you can actually insert on your particular unsorted array where you can sort by comparing the first and second number if who is smaller so in our array 5 is smaller than 7 so we will leave that its way. Then next is 9 and bigger among first two number so leave it in here then next is 4 and 4 is the lowest in first 3 number we sorted so now 4 is now our first number. Then next number is 2 and 2 is smaller that 4 from previous so 2 now is the first next is 11 and 11 is greater than 9 so 11 is the last number. Next is 6 then 6 is greated than 5 and smaller than 7 so it will move between 5 and 7 and last is 3 so 3 is greater than 2 and 3 is smaller than 4 so in sorted it will now be {2,3,4,5,6,7,9,11}\n"
     ]
    }
   ],
   "source": [
    "print(\"Chapter 13 Learnings:\")\n",
    "print(\"\")\n",
    "print(\"Insertion Sort is a simple sorting algorithm in Python and what it does is it will sort an Unsorted Array like for example you have a unsorted array which is this {5,7,9,4,2,11,6,3}. So basically when sorting you can make an empty array for it to be sorted but then there is an easy way on sorting it. So this insertion array is you can actually insert on your particular unsorted array where you can sort by comparing the first and second number if who is smaller so in our array 5 is smaller than 7 so we will leave that its way. Then next is 9 and bigger among first two number so leave it in here then next is 4 and 4 is the lowest in first 3 number we sorted so now 4 is now our first number. Then next number is 2 and 2 is smaller that 4 from previous so 2 now is the first next is 11 and 11 is greater than 9 so 11 is the last number. Next is 6 then 6 is greated than 5 and smaller than 7 so it will move between 5 and 7 and last is 3 so 3 is greater than 2 and 3 is smaller than 4 so in sorted it will now be {2,3,4,5,6,7,9,11}\")"
   ]
  },
  {
   "cell_type": "code",
   "execution_count": 13,
   "id": "e8986e91-dd8d-44d5-9a49-eae75f791d0f",
   "metadata": {},
   "outputs": [
    {
     "name": "stdout",
     "output_type": "stream",
     "text": [
      "Chapter 14 Learnings:\n",
      "\n",
      "So basically Merge Sort is from word itself where then you have two sorted array and you will merge it in another array. So the steps about the merge sort is whenever your first number in your both array whoever is smaller will be listed in your another array. Like for example in my first array I have {3,5,7,9,11} and the other array is {2,4,6,8,10}. So when you are going to merge it sort like I said the first number of both array is smaller amount then you will list it in your another array so 2 is smaller than 3 so 2 will be put first. Since 2 is alreay gone transfered to another array we will now move to the 2nd number which is 4 and in the other array is 3 so 3 is smaller than 4 so you will move 3 in another array. Next after 3 there is 5 so since we have 4 in the left and it is smaller than 5 so we will move 4 in another array next in right we can see that 5 is smaller to 6 so we will move again the 5 next to 4. Until you will finish sorting to end.\n"
     ]
    }
   ],
   "source": [
    "print(\"Chapter 14 Learnings:\")\n",
    "print(\"\")\n",
    "print(\"So basically Merge Sort is from word itself where then you have two sorted array and you will merge it in another array. So the steps about the merge sort is whenever your first number in your both array whoever is smaller will be listed in your another array. Like for example in my first array I have {3,5,7,9,11} and the other array is {2,4,6,8,10}. So when you are going to merge it sort like I said the first number of both array is smaller amount then you will list it in your another array so 2 is smaller than 3 so 2 will be put first. Since 2 is alreay gone transfered to another array we will now move to the 2nd number which is 4 and in the other array is 3 so 3 is smaller than 4 so you will move 3 in another array. Next after 3 there is 5 so since we have 4 in the left and it is smaller than 5 so we will move 4 in another array next in right we can see that 5 is smaller to 6 so we will move again the 5 next to 4. Until you will finish sorting to end.\")"
   ]
  },
  {
   "cell_type": "code",
   "execution_count": 14,
   "id": "b0bd9a5e-2a05-42b4-91ac-688e528b4c57",
   "metadata": {},
   "outputs": [
    {
     "name": "stdout",
     "output_type": "stream",
     "text": [
      "Chapter 15 Learnings:\n",
      "\n",
      "Shell sort is an optimization over insertion sort and it is in place comparison sort, often viewed as a variation of the insertion sort algorithm. The algorithm sorts pairs that are far apart from each other, shrinking the gap each iteration until the array is sorted. This makes later moves comparatively less expensive to perform. When shell sorting you will Define a gap as a size to the relative to a fraction of your array and then you will sort the fractions using insertion sort and after the you will then repeat while the list remains unsorted. Because shell sort is able to move items that are far away from their needed place with efficiency, it is sometimes preferred on nearly sorted arrays compared to insertion sort. Being that it is in place as well makes it suitable for systems where memory constraints are a concern.\n"
     ]
    }
   ],
   "source": [
    "print(\"Chapter 15 Learnings:\")\n",
    "print(\"\")\n",
    "print(\"Shell sort is an optimization over insertion sort and it is in place comparison sort, often viewed as a variation of the insertion sort algorithm. The algorithm sorts pairs that are far apart from each other, shrinking the gap each iteration until the array is sorted. This makes later moves comparatively less expensive to perform. When shell sorting you will Define a gap as a size to the relative to a fraction of your array and then you will sort the fractions using insertion sort and after the you will then repeat while the list remains unsorted. Because shell sort is able to move items that are far away from their needed place with efficiency, it is sometimes preferred on nearly sorted arrays compared to insertion sort. Being that it is in place as well makes it suitable for systems where memory constraints are a concern.\")"
   ]
  },
  {
   "cell_type": "code",
   "execution_count": 15,
   "id": "baf8b6fc-26ef-480b-9731-4a48e3a1e152",
   "metadata": {},
   "outputs": [
    {
     "name": "stdout",
     "output_type": "stream",
     "text": [
      "Chapter 16 Learnings:\n",
      "\n",
      "Selection Sort in Pythin is very simple and is about to find a candidate for the first position of your whole unsorted array sand that candidate is the minimum number of the list. So what you will do is you will look at your list find a minumum number and then you swap with the first element. After that the first element is sorted then now you will move to the second element and again do it recursively find a candidate for the second position and that element should be the second minimum element or the minimum element in unsorted array so you will swap it again. Take note that in your left numbers that will be now your sorted array number and in the left number next to your sorted number that is still you unsorted array. And so on if you keep repeating this process the whole element numbers will be sorted.\n"
     ]
    }
   ],
   "source": [
    "print(\"Chapter 16 Learnings:\")\n",
    "print(\"\")\n",
    "print(\"Selection Sort in Pythin is very simple and is about to find a candidate for the first position of your whole unsorted array sand that candidate is the minimum number of the list. So what you will do is you will look at your list find a minumum number and then you swap with the first element. After that the first element is sorted then now you will move to the second element and again do it recursively find a candidate for the second position and that element should be the second minimum element or the minimum element in unsorted array so you will swap it again. Take note that in your left numbers that will be now your sorted array number and in the left number next to your sorted number that is still you unsorted array. And so on if you keep repeating this process the whole element numbers will be sorted.\")"
   ]
  },
  {
   "cell_type": "code",
   "execution_count": 16,
   "id": "fb1d4a8b-e22c-43f5-8693-32f7dc3a10cc",
   "metadata": {},
   "outputs": [
    {
     "name": "stdout",
     "output_type": "stream",
     "text": [
      "Chapter 17 Learnings:\n",
      "\n",
      "From what I have watched in the video explaining about what is a Recursion well in what I have understood recursion is all about counting itself next to another. In other word in your 1st value of your variable and the 2nd value of your variable they will be added to both of themself then once it has the answer the 3rd value of a variable will add the value of a 2nd value of a variable from the previous. So when doing it forward until it reached the maximum value of a variable it will add the total amount of those variables listed. So basically recursion is all about counting itself one by one going to another until it counted the total. Recursion is a powerful tool in breaking down complex problems into more manageable segments, and knowledge of recursion is a desirable trait that employers look for in developer positions. In this course, Robin Andrews takes a deep dive into the concepts, techniques, and applications of recursion using Python. He starts with some real-world examples of recursion, and then shows how it pertains to software development.\n"
     ]
    }
   ],
   "source": [
    "print(\"Chapter 17 Learnings:\")\n",
    "print(\"\")\n",
    "print(\"From what I have watched in the video explaining about what is a Recursion well in what I have understood recursion is all about counting itself next to another. In other word in your 1st value of your variable and the 2nd value of your variable they will be added to both of themself then once it has the answer the 3rd value of a variable will add the value of a 2nd value of a variable from the previous. So when doing it forward until it reached the maximum value of a variable it will add the total amount of those variables listed. So basically recursion is all about counting itself one by one going to another until it counted the total. Recursion is a powerful tool in breaking down complex problems into more manageable segments, and knowledge of recursion is a desirable trait that employers look for in developer positions. In this course, Robin Andrews takes a deep dive into the concepts, techniques, and applications of recursion using Python. He starts with some real-world examples of recursion, and then shows how it pertains to software development.\")"
   ]
  },
  {
   "cell_type": "code",
   "execution_count": 42,
   "id": "7c9e2220-549d-4e08-a091-c408aa829b01",
   "metadata": {},
   "outputs": [
    {
     "name": "stdout",
     "output_type": "stream",
     "text": [
      "ii.  Answer the following questions:\n",
      "\n",
      "1. Implement the simple methods get_num and get_den that will return the numerator and denominator of a fraction.\n",
      "\n",
      "The Numerator is:  20\n",
      "The Denominator is:  10\n"
     ]
    }
   ],
   "source": [
    "print(\"ii.  Answer the following questions:\")\n",
    "print(\"\")\n",
    "print(\"1. Implement the simple methods get_num and get_den that will return the numerator and denominator of a fraction.\")\n",
    "print(\"\")\n",
    "def get_num(number1):\n",
    "    return number1\n",
    "def get_den(denom1):\n",
    "    return denom1\n",
    "\n",
    "num = 20\n",
    "den = 10\n",
    "\n",
    "print(\"The Numerator is: \",get_num(num))\n",
    "print(\"The Denominator is: \",get_den(den))"
   ]
  },
  {
   "cell_type": "code",
   "execution_count": 43,
   "id": "a3d102b1-9360-40ca-b41e-4d176114a790",
   "metadata": {},
   "outputs": [
    {
     "name": "stdout",
     "output_type": "stream",
     "text": [
      "2. Research the __radd__ method. How does it differ from __add__? When is it used? Implement __radd__\n",
      "\n",
      " Basically the __add__ is about to take an input string and then it returns a memory which contains the data and concatenate it while __radd__ adds the string first then the user-defined class comes next to it.\n",
      "\n",
      "<__main__.Upper object at 0x0000024B4857FBE0>\n"
     ]
    }
   ],
   "source": [
    "print(\"2. Research the __radd__ method. How does it differ from __add__? When is it used? Implement __radd__\")\n",
    "print(\"\")\n",
    "\n",
    "print(\" Basically the __add__ is about to take an input string and then it returns a memory which contains the data and concatenate it while __radd__ adds the string first then the user-defined class comes next to it.\")\n",
    "print(\"\")\n",
    "class Upper:\n",
    "    def __init__(self, initial):\n",
    "        self.data = initial.upper()\n",
    "    def __add__(self,other):\n",
    "        return Upper(self.data + other)\n",
    "\n",
    "u = Upper('I dont')\n",
    "\n",
    "a = u+\"Know\" \n",
    "\n",
    "print(a)"
   ]
  },
  {
   "cell_type": "code",
   "execution_count": 45,
   "id": "3df3786f-0b03-4015-b712-74cfe5964ce0",
   "metadata": {},
   "outputs": [
    {
     "name": "stdout",
     "output_type": "stream",
     "text": [
      "\n",
      "3. Research the __repr__ method. How does it differ from __str__? When is it used? Implement __repr__.\n",
      "\n",
      "The goal of __repr__ should be clear while __str__ goal is to be readable\n",
      "\n",
      "Instance The Name of class User\n"
     ]
    }
   ],
   "source": [
    "print(\"3. Research the __repr__ method. How does it differ from __str__? When is it used? Implement __repr__.\")\n",
    "print(\"\")\n",
    "print(\"The goal of __repr__ should be clear while __str__ goal is to be readable\")\n",
    "print(\"\")\n",
    "class User:\n",
    "    def __init__(self, name):\n",
    "        self.username = name\n",
    "    def __repr__(self):\n",
    "        return 'Instance {} of class User'.format(self.username)\n",
    "\n",
    "cod = User('The Name')\n",
    "\n",
    "print(cod)"
   ]
  },
  {
   "cell_type": "code",
   "execution_count": 52,
   "id": "b51137e0-5028-4d85-b694-cc91a0f889c5",
   "metadata": {},
   "outputs": [
    {
     "name": "stdout",
     "output_type": "stream",
     "text": [
      "\n",
      "4. The most simple arithmetic circuit is known as the half adder. Research the simple half-adder circuit. Implement this circuit.\n",
      "\n",
      " Sum  is:  396\n",
      "Carry is:  112\n"
     ]
    }
   ],
   "source": [
    "print(\"4. The most simple arithmetic circuit is known as the half adder. Research the simple half-adder circuit. Implement this circuit.\")\n",
    "print(\"\")\n",
    "def getResult(X, Y):\n",
    "\tSum = X ^ Y\n",
    "\tCarry = X & Y\n",
    "\tprint(\" Sum  is: \", Sum)\n",
    "\tprint(\"Carry is: \", Carry)\n",
    "\n",
    "X = 500\n",
    "Y = 120\n",
    "getResult(X, Y)\n"
   ]
  },
  {
   "cell_type": "code",
   "execution_count": 53,
   "id": "c34d4a3b-14d1-4d1e-80ab-9253757b5d5d",
   "metadata": {},
   "outputs": [
    {
     "name": "stdout",
     "output_type": "stream",
     "text": [
      "\n",
      "5. Design a class to represent a playing card and another one to represent a deck of cards. Using these two classes, implement your favorite card game.\n",
      "\n"
     ]
    }
   ],
   "source": [
    "print(\"5. Design a class to represent a playing card and another one to represent a deck of cards. Using these two classes, implement your favorite card game.\")\n",
    "print(\"\")\n",
    "class Card(object):\n",
    "    \"\"\" Represents a standard playing card.\n",
    "    Attributes:\n",
    "        suit: Integer 0-3\n",
    "        rank: Integer 1-13\n",
    "    \"\"\"\n",
    "\n",
    "    suit_names = [\"Clubs\", \"Diamonds\", \"Hearts\", \"Spades\"]\n",
    "    rank_names = [None, \"2\", \"3\", \"4\", \"5\", \"6\", \"7\", \"8\",\n",
    "                  \"9\", \"10\", \"Jack\", \"Queen\", \"King\", \"Ace\"]\n",
    "\n",
    "    def __init__(self, suit=0, rank=1):\n",
    "        self.suit = suit\n",
    "        self.rank = rank\n",
    "\n",
    "    def __str__(self):\n",
    "        \"\"\" returns a human readable string representation \"\"\"\n",
    "        return '%s of %s' % (Card.rank_names[self.rank],\n",
    "                             Card.suit_names[self.suit])\n",
    "\n",
    "    def __lt__(self, other):\n",
    "        \"\"\" Compares this card to other, only by rank (no suit comparison)\n",
    "        Returns a positive number if this > other, negative otherwise.\n",
    "        Returns 0 if the cards are of same rank\n",
    "        \"\"\"\n",
    "        # t1 = self.rank\n",
    "        # t2 = other.rank\n",
    "        self1 = self.suit, self.rank\n",
    "        self2 = other.suit, other.rank\n",
    "        return self1 < self2\n",
    "\n",
    "    def getRank(self):\n",
    "        return self.rank"
   ]
  },
  {
   "cell_type": "code",
   "execution_count": 70,
   "id": "cd3bebb2-2a2d-4079-a5d3-8f50e468aaf6",
   "metadata": {},
   "outputs": [
    {
     "name": "stdout",
     "output_type": "stream",
     "text": [
      "6. Design and implement an experiment to do benchmark comparisons of the two queue(enqueue,dequeue) implementations. What can you learn from such an experiment?\n",
      "\n",
      "<__main__.Queue object at 0x0000024B485C8130>\n",
      "deque(['Christine Reyes', 'Angel Locsin'])\n",
      "Adding to the right: \n",
      "deque(['Christine Reyes', 'Angel Locsin', 'Challene Geraldez'])\n",
      "Adding to the left: \n",
      "deque(['Rojie Mandawe', 'Christine Reyes', 'Angel Locsin', 'Challene Geraldez'])\n",
      "Removing from the right: \n",
      "deque(['Rojie Mandawe', 'Christine Reyes', 'Angel Locsin'])\n",
      "Removing from the left: \n",
      "deque(['Christine Reyes', 'Angel Locsin'])\n",
      "Reversing the deque: \n",
      "deque(['Angel Locsin', 'Christine Reyes'])\n"
     ]
    }
   ],
   "source": [
    "print(\"6. Design and implement an experiment to do benchmark comparisons of the two queue(enqueue,dequeue) implementations. What can you learn from such an experiment?\")\n",
    "print(\"\")\n",
    "class Queue:\n",
    " \n",
    "  def __init__(self):\n",
    "      self.queue = list()\n",
    " \n",
    "  def addToQueue(self,value):\n",
    "      if value not in self.queue:\n",
    "          self.queue.insert(0,value)\n",
    "          return True\n",
    "      return False\n",
    " \n",
    "  def size(self):\n",
    "      return len(self.queue)\n",
    " \n",
    "StarIdol = Queue()\n",
    "StarIdol.addToQueue(\"Liza Soberano\")\n",
    "StarIdol.addToQueue(\"Barbie Imperial\")\n",
    "StarIdol.addToQueue(\"Yassi Pressman\")\n",
    "StarIdol.addToQueue(\"Lovi Poe\")\n",
    "StarIdol.addToQueue(\"Catriona Gray\")\n",
    "print(StarIdol)\n",
    "\n",
    "import collections\n",
    " \n",
    "DoubleEnded = collections.deque([\"Christine Reyes\",\"Angel Locsin\"])\n",
    "print (DoubleEnded)\n",
    "print(\"Adding to the right: \")\n",
    "DoubleEnded.append(\"Challene Geraldez\")\n",
    "print (DoubleEnded)\n",
    "print(\"Adding to the left: \")\n",
    "DoubleEnded.appendleft(\"Rojie Mandawe\")\n",
    "print (DoubleEnded)\n",
    "print(\"Removing from the right: \")\n",
    "DoubleEnded.pop()\n",
    "print (DoubleEnded)\n",
    "print(\"Removing from the left: \")\n",
    "DoubleEnded.popleft()\n",
    "print (DoubleEnded)\n",
    "print(\"Reversing the deque: \")\n",
    "DoubleEnded.reverse()\n",
    "print (DoubleEnded)"
   ]
  },
  {
   "cell_type": "code",
   "execution_count": 64,
   "id": "4878a5de-665e-4460-885d-91c8b548cb04",
   "metadata": {},
   "outputs": [
    {
     "name": "stdout",
     "output_type": "stream",
     "text": [
      "\n",
      "7. Consider a real life situation. Formulate a question and then design a simulation that can help to answer it.\n",
      "--Floods. What's the best way to prevent flooding??--\n",
      "*Build a flood barriers.\n",
      "*Do a matural flood management.\n",
      "*Sustainable drainage.\n",
      "*Create flood plains and overflow areas for rivers.\n",
      "*Install water infiltration and attenuation systems.\n",
      "*Improve flood warning mechanisms\n",
      "*Plant more trees\n",
      "*Do not throw your garbage anywhere\n"
     ]
    }
   ],
   "source": [
    "print(\"7. Consider a real life situation. Formulate a question and then design a simulation that can help to answer it.\")\n",
    "print(\"--Floods. What's the best way to prevent flooding??--\")\n",
    "print(\"*Build a flood barriers.\")\n",
    "print(\"*Do a matural flood management.\")\n",
    "print(\"*Sustainable drainage.\")\n",
    "print(\"*Create flood plains and overflow areas for rivers.\")\n",
    "print(\"*Install water infiltration and attenuation systems.\")\n",
    "print(\"*Improve flood warning mechanisms\")\n",
    "print(\"*Plant more trees\")\n",
    "print(\"*Do not throw your garbage anywhere\")"
   ]
  },
  {
   "cell_type": "code",
   "execution_count": 66,
   "id": "37364580-8a02-45b8-81a8-5b13656e3bf7",
   "metadata": {},
   "outputs": [
    {
     "name": "stdout",
     "output_type": "stream",
     "text": [
      "8. Implement a queue using linked lists.\n",
      "\n",
      "['God', 'Is', 'Good', 'All the Time', 'Amen']\n",
      "God\n",
      "['Is', 'Good', 'All the Time', 'Amen']\n",
      "Is\n",
      "['Good', 'All the Time', 'Amen']\n"
     ]
    }
   ],
   "source": [
    "print(\"8. Implement a queue using linked lists.\")\n",
    "print(\"\")\n",
    "queue = [\"God\", \"Is\", \"Good\"]\n",
    "queue.append(\"All the Time\")\n",
    "queue.append(\"Amen\")\n",
    "print(queue)\n",
    "print(queue.pop(0))\n",
    "print(queue)\n",
    "print(queue.pop(0))\n",
    "print(queue)"
   ]
  },
  {
   "cell_type": "code",
   "execution_count": 69,
   "id": "6a777fa5-277a-492d-adff-8015fd3e1337",
   "metadata": {},
   "outputs": [
    {
     "name": "stdout",
     "output_type": "stream",
     "text": [
      "9. Write a recursive function to compute the factorial of a number.\n",
      "\n",
      "The factorial of 15 is 1307674368000\n"
     ]
    }
   ],
   "source": [
    "print(\"9. Write a recursive function to compute the factorial of a number.\")\n",
    "print(\"\")\n",
    "def recur_factorial(n):\n",
    "   if n == 1:\n",
    "       return n\n",
    "   else:\n",
    "       return n*recur_factorial(n-1)\n",
    "num = 15\n",
    "print(\"The factorial of\", num, \"is\", recur_factorial(num))"
   ]
  },
  {
   "cell_type": "code",
   "execution_count": 74,
   "id": "c8a509bf-d32f-44b0-9ceb-c9af97f40de7",
   "metadata": {},
   "outputs": [
    {
     "name": "stdout",
     "output_type": "stream",
     "text": [
      "10. Set up a random experiment to test the difference between a sequential search and a binary search on a list of integers.\n",
      "\n",
      "Element is present at index 0\n",
      "(False, 10)\n"
     ]
    }
   ],
   "source": [
    "print(\"10. Set up a random experiment to test the difference between a sequential search and a binary search on a list of integers.\")\n",
    "print(\"\")\n",
    "def binary_search(arr, low, high, x):\n",
    "    if high >= low:\n",
    " \n",
    "        mid = (high + low) // 2\n",
    "\n",
    "        if arr[mid] == x:\n",
    "            return mid\n",
    " \n",
    "        elif arr[mid] > x:\n",
    "            return binary_search(arr, low, mid - 1, x)\n",
    "\n",
    "        else:\n",
    "            return binary_search(arr, mid + 1, high, x)\n",
    "    else:\n",
    "\n",
    "        return -1\n",
    "arr = [ 5, 7, 8, 12, 15 ]\n",
    "x = 5\n",
    "result = binary_search(arr, 0, len(arr)-1, x)\n",
    "if result != -1:\n",
    "    print(\"Element is present at index\", str(result))\n",
    "else:\n",
    "    print(\"Element is not present in array\")\n",
    "\n",
    "def Sequential_Search(dlist, item):\n",
    "    pos = 0\n",
    "    found = False\n",
    "    \n",
    "    while pos < len(dlist) and not found:\n",
    "        if dlist[pos] == item:\n",
    "            found = True\n",
    "        else:\n",
    "            pos = pos + 1\n",
    "    \n",
    "    return found, pos\n",
    "\n",
    "print(Sequential_Search([8,16,51,26,35,58,25,9,66,51],40))"
   ]
  },
  {
   "cell_type": "code",
   "execution_count": 78,
   "id": "1cf0323d-3bab-4031-96fa-ce9cf7e6db01",
   "metadata": {},
   "outputs": [
    {
     "name": "stdout",
     "output_type": "stream",
     "text": [
      "11. Suppose you are a computer scientist/art thief who has broken into a major art gallery. All you have with you to haul out your stolen art is your knapsack which only holds W pounds of art, but for every piece of art you know its value and its weight. Write a dynamic programming function to help you maximize your profit. Here is a sample problem for you to use to get started: Suppose your knapsack can hold a total weight of 20. \n",
      "\n",
      "13\n"
     ]
    }
   ],
   "source": [
    "print(\"11. Suppose you are a computer scientist/art thief who has broken into a major art gallery. All you have with you to haul out your stolen art is your knapsack which only holds W pounds of art, but for every piece of art you know its value and its weight. Write a dynamic programming function to help you maximize your profit. Here is a sample problem for you to use to get started: Suppose your knapsack can hold a total weight of 20. \")\n",
    "print(\"\")\n",
    "def knap(X, wt, val, n):\n",
    "\n",
    "    if n == 0 or X == 0:\n",
    "        return 0\n",
    "\n",
    "    if (wt[n-1] > X):\n",
    "        return knap(X, wt, val, n-1)\n",
    "    else:\n",
    "        return max(\n",
    "            val[n-1] + knap(\n",
    "                X-wt[n-1], wt, val, n-1),\n",
    "            knap(X, wt, val, n-1))\n",
    "\n",
    "val = [5, 6, 2,2,20]\n",
    "wt = [4, 1, 3,7,11]\n",
    "X = 10\n",
    "n = len(val)\n",
    "print (knap(X, wt, val, n))"
   ]
  }
 ],
 "metadata": {
  "kernelspec": {
   "display_name": "Python 3",
   "language": "python",
   "name": "python3"
  },
  "language_info": {
   "codemirror_mode": {
    "name": "ipython",
    "version": 3
   },
   "file_extension": ".py",
   "mimetype": "text/x-python",
   "name": "python",
   "nbconvert_exporter": "python",
   "pygments_lexer": "ipython3",
   "version": "3.9.4"
  }
 },
 "nbformat": 4,
 "nbformat_minor": 5
}
